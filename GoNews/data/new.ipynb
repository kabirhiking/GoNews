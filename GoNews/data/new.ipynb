{
 "cells": [
  {
   "cell_type": "code",
   "execution_count": 10,
   "id": "03f9d539",
   "metadata": {},
   "outputs": [
    {
     "name": "stdout",
     "output_type": "stream",
     "text": [
      "Downloading from https://www.kaggle.com/api/v1/datasets/download/clmentbisaillon/fake-and-real-news-dataset?dataset_version_number=1...\n"
     ]
    },
    {
     "name": "stderr",
     "output_type": "stream",
     "text": [
      "100%|██████████| 41.0M/41.0M [02:09<00:00, 331kB/s]"
     ]
    },
    {
     "name": "stdout",
     "output_type": "stream",
     "text": [
      "Downloading from https://www.kaggle.com/api/v1/datasets/download/clmentbisaillon/fake-and-real-news-dataset?dataset_version_number=1...\n"
     ]
    },
    {
     "name": "stderr",
     "output_type": "stream",
     "text": [
      "100%|██████████| 41.0M/41.0M [02:09<00:00, 331kB/s]"
     ]
    },
    {
     "name": "stdout",
     "output_type": "stream",
     "text": [
      "Extracting files...\n"
     ]
    },
    {
     "name": "stdout",
     "output_type": "stream",
     "text": [
      "Downloading from https://www.kaggle.com/api/v1/datasets/download/clmentbisaillon/fake-and-real-news-dataset?dataset_version_number=1...\n"
     ]
    },
    {
     "name": "stderr",
     "output_type": "stream",
     "text": [
      "100%|██████████| 41.0M/41.0M [02:09<00:00, 331kB/s]"
     ]
    },
    {
     "name": "stdout",
     "output_type": "stream",
     "text": [
      "Extracting files...\n"
     ]
    },
    {
     "name": "stderr",
     "output_type": "stream",
     "text": [
      "\n"
     ]
    },
    {
     "name": "stdout",
     "output_type": "stream",
     "text": [
      "Downloading from https://www.kaggle.com/api/v1/datasets/download/clmentbisaillon/fake-and-real-news-dataset?dataset_version_number=1...\n"
     ]
    },
    {
     "name": "stderr",
     "output_type": "stream",
     "text": [
      "100%|██████████| 41.0M/41.0M [02:09<00:00, 331kB/s]"
     ]
    },
    {
     "name": "stdout",
     "output_type": "stream",
     "text": [
      "Extracting files...\n"
     ]
    },
    {
     "name": "stderr",
     "output_type": "stream",
     "text": [
      "\n"
     ]
    },
    {
     "name": "stdout",
     "output_type": "stream",
     "text": [
      "Path to dataset files: C:\\Users\\pc\\.cache\\kagglehub\\datasets\\clmentbisaillon\\fake-and-real-news-dataset\\versions\\1\n",
      "Downloaded files: ['Fake.csv', 'True.csv']\n",
      "Copied Fake.csv to C:\\Users\\pc\\Desktop\\News\\GoNews\\data\n",
      "Copied True.csv to C:\\Users\\pc\\Desktop\\News\\GoNews\\data\n",
      "Dataset downloaded and copied successfully to your data folder!\n",
      "Copied Fake.csv to C:\\Users\\pc\\Desktop\\News\\GoNews\\data\n",
      "Copied True.csv to C:\\Users\\pc\\Desktop\\News\\GoNews\\data\n",
      "Dataset downloaded and copied successfully to your data folder!\n"
     ]
    }
   ],
   "source": [
    "import kagglehub\n",
    "\n",
    "# Download latest version\n",
    "path = kagglehub.dataset_download(\"C:\\\\Users\\\\pc\\\\Desktop\\\\News\\\\GoNews\\\\data\\\\news.csv\")\n",
    "\n",
    "print(\"Path to dataset files:\", path)\n",
    "print(\"Dataset downloaded and extracted successfully!\")"
   ]
  },
  {
   "cell_type": "code",
   "execution_count": 11,
   "id": "cdc5c28f",
   "metadata": {},
   "outputs": [
    {
     "name": "stdout",
     "output_type": "stream",
     "text": [
      "✅ Saved cleaned dataset as clean_news.csv\n"
     ]
    }
   ],
   "source": [
    "import pandas as pd\n",
    "import random\n",
    "import datetime\n",
    "\n",
    "# Load original Kaggle dataset\n",
    "df = pd.read_csv(\"news.csv\")\n",
    "\n",
    "# Generate random dates for demo (past 5 years)\n",
    "def random_date():\n",
    "    start = datetime.date(2019, 1, 1)\n",
    "    end = datetime.date(2023, 12, 31)\n",
    "    delta = end - start\n",
    "    random_days = random.randint(0, delta.days)\n",
    "    return start + datetime.timedelta(days=random_days)\n",
    "\n",
    "# Cleaned dataset\n",
    "clean_df = pd.DataFrame({\n",
    "    \"id\": df.index,\n",
    "    \"title\": df[\"title\"],\n",
    "    \"date\": [random_date() for _ in range(len(df))],\n",
    "    \"content\": df[\"text\"]\n",
    "})\n",
    "\n",
    "# Save for GoNews\n",
    "clean_df.to_csv(\"clean_news.csv\", index=False)\n",
    "print(\"✅ Saved cleaned dataset as clean_news.csv\")\n"
   ]
  }
 ],
 "metadata": {
  "kernelspec": {
   "display_name": "Python 3",
   "language": "python",
   "name": "python3"
  },
  "language_info": {
   "codemirror_mode": {
    "name": "ipython",
    "version": 3
   },
   "file_extension": ".py",
   "mimetype": "text/x-python",
   "name": "python",
   "nbconvert_exporter": "python",
   "pygments_lexer": "ipython3",
   "version": "3.12.6"
  }
 },
 "nbformat": 4,
 "nbformat_minor": 5
}
